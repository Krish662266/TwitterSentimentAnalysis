{
 "cells": [
  {
   "cell_type": "markdown",
   "id": "cf8cbe32",
   "metadata": {},
   "source": [
    "# Homework 3: Natural Language Processing\n",
    "## Making Products Count: Data Science for Product Management, S22\n",
    "\n",
    "Feburary 25, 2022"
   ]
  },
  {
   "cell_type": "code",
   "execution_count": 1,
   "id": "a3ce72aa",
   "metadata": {},
   "outputs": [],
   "source": [
    "import pandas as pd\n",
    "import numpy as np\n",
    "import matplotlib.pyplot as plt"
   ]
  },
  {
   "cell_type": "code",
   "execution_count": 2,
   "id": "dec5aee2",
   "metadata": {},
   "outputs": [],
   "source": [
    "# Import data, drop unneeded columns\n",
    "data = pd.read_csv('Twitter-sentiment-self-drive-DFE.csv', header=0, index_col=0, parse_dates=['_last_judgment_at'], infer_datetime_format=True)\n",
    "data = data.drop(columns=['_unit_state', 'sentiment_gold', 'sentiment_gold_reason', 'our_id'])"
   ]
  },
  {
   "cell_type": "code",
   "execution_count": 3,
   "id": "a2adc821",
   "metadata": {
    "scrolled": true
   },
   "outputs": [
    {
     "data": {
      "text/html": [
       "<div>\n",
       "<style scoped>\n",
       "    .dataframe tbody tr th:only-of-type {\n",
       "        vertical-align: middle;\n",
       "    }\n",
       "\n",
       "    .dataframe tbody tr th {\n",
       "        vertical-align: top;\n",
       "    }\n",
       "\n",
       "    .dataframe thead th {\n",
       "        text-align: right;\n",
       "    }\n",
       "</style>\n",
       "<table border=\"1\" class=\"dataframe\">\n",
       "  <thead>\n",
       "    <tr style=\"text-align: right;\">\n",
       "      <th></th>\n",
       "      <th>_golden</th>\n",
       "      <th>_trusted_judgments</th>\n",
       "      <th>_last_judgment_at</th>\n",
       "      <th>sentiment</th>\n",
       "      <th>sentiment:confidence</th>\n",
       "      <th>text</th>\n",
       "    </tr>\n",
       "    <tr>\n",
       "      <th>_unit_id</th>\n",
       "      <th></th>\n",
       "      <th></th>\n",
       "      <th></th>\n",
       "      <th></th>\n",
       "      <th></th>\n",
       "      <th></th>\n",
       "    </tr>\n",
       "  </thead>\n",
       "  <tbody>\n",
       "    <tr>\n",
       "      <th>724227031</th>\n",
       "      <td>True</td>\n",
       "      <td>236</td>\n",
       "      <td>NaT</td>\n",
       "      <td>5</td>\n",
       "      <td>0.7579</td>\n",
       "      <td>Two places I'd invest all my money if I could:...</td>\n",
       "    </tr>\n",
       "    <tr>\n",
       "      <th>724227032</th>\n",
       "      <td>True</td>\n",
       "      <td>231</td>\n",
       "      <td>NaT</td>\n",
       "      <td>5</td>\n",
       "      <td>0.8775</td>\n",
       "      <td>Awesome! Google driverless cars will help the ...</td>\n",
       "    </tr>\n",
       "    <tr>\n",
       "      <th>724227033</th>\n",
       "      <td>True</td>\n",
       "      <td>233</td>\n",
       "      <td>NaT</td>\n",
       "      <td>2</td>\n",
       "      <td>0.6805</td>\n",
       "      <td>If Google maps can't keep up with road constru...</td>\n",
       "    </tr>\n",
       "    <tr>\n",
       "      <th>724227034</th>\n",
       "      <td>True</td>\n",
       "      <td>240</td>\n",
       "      <td>NaT</td>\n",
       "      <td>2</td>\n",
       "      <td>0.8820</td>\n",
       "      <td>Autonomous cars seem way overhyped given the t...</td>\n",
       "    </tr>\n",
       "    <tr>\n",
       "      <th>724227035</th>\n",
       "      <td>True</td>\n",
       "      <td>240</td>\n",
       "      <td>NaT</td>\n",
       "      <td>3</td>\n",
       "      <td>1.0000</td>\n",
       "      <td>Just saw Google self-driving car on I-34. It w...</td>\n",
       "    </tr>\n",
       "  </tbody>\n",
       "</table>\n",
       "</div>"
      ],
      "text/plain": [
       "           _golden  _trusted_judgments _last_judgment_at sentiment  \\\n",
       "_unit_id                                                             \n",
       "724227031     True                 236               NaT         5   \n",
       "724227032     True                 231               NaT         5   \n",
       "724227033     True                 233               NaT         2   \n",
       "724227034     True                 240               NaT         2   \n",
       "724227035     True                 240               NaT         3   \n",
       "\n",
       "           sentiment:confidence  \\\n",
       "_unit_id                          \n",
       "724227031                0.7579   \n",
       "724227032                0.8775   \n",
       "724227033                0.6805   \n",
       "724227034                0.8820   \n",
       "724227035                1.0000   \n",
       "\n",
       "                                                        text  \n",
       "_unit_id                                                      \n",
       "724227031  Two places I'd invest all my money if I could:...  \n",
       "724227032  Awesome! Google driverless cars will help the ...  \n",
       "724227033  If Google maps can't keep up with road constru...  \n",
       "724227034  Autonomous cars seem way overhyped given the t...  \n",
       "724227035  Just saw Google self-driving car on I-34. It w...  "
      ]
     },
     "execution_count": 3,
     "metadata": {},
     "output_type": "execute_result"
    }
   ],
   "source": [
    "data.head()"
   ]
  },
  {
   "cell_type": "markdown",
   "id": "e3260439",
   "metadata": {},
   "source": [
    "## 1. Exploratory data analysis"
   ]
  },
  {
   "cell_type": "markdown",
   "id": "a7c519b7",
   "metadata": {},
   "source": [
    "### Summary statistics "
   ]
  },
  {
   "cell_type": "code",
   "execution_count": 4,
   "id": "18fdad10",
   "metadata": {},
   "outputs": [
    {
     "data": {
      "text/plain": [
       "_golden                 7156\n",
       "_trusted_judgments      7156\n",
       "_last_judgment_at       7079\n",
       "sentiment               7156\n",
       "sentiment:confidence    7156\n",
       "text                    7156\n",
       "dtype: int64"
      ]
     },
     "execution_count": 4,
     "metadata": {},
     "output_type": "execute_result"
    }
   ],
   "source": [
    "# Column counts\n",
    "data.count()"
   ]
  },
  {
   "cell_type": "code",
   "execution_count": 5,
   "id": "f2cb3c3e",
   "metadata": {},
   "outputs": [
    {
     "data": {
      "text/plain": [
       "_golden                  0\n",
       "_trusted_judgments       0\n",
       "_last_judgment_at       77\n",
       "sentiment                0\n",
       "sentiment:confidence     0\n",
       "text                     0\n",
       "dtype: int64"
      ]
     },
     "execution_count": 5,
     "metadata": {},
     "output_type": "execute_result"
    }
   ],
   "source": [
    "data.isnull().sum()"
   ]
  },
  {
   "cell_type": "code",
   "execution_count": 6,
   "id": "7af6e743",
   "metadata": {
    "scrolled": true
   },
   "outputs": [
    {
     "data": {
      "text/html": [
       "<div>\n",
       "<style scoped>\n",
       "    .dataframe tbody tr th:only-of-type {\n",
       "        vertical-align: middle;\n",
       "    }\n",
       "\n",
       "    .dataframe tbody tr th {\n",
       "        vertical-align: top;\n",
       "    }\n",
       "\n",
       "    .dataframe thead th {\n",
       "        text-align: right;\n",
       "    }\n",
       "</style>\n",
       "<table border=\"1\" class=\"dataframe\">\n",
       "  <thead>\n",
       "    <tr style=\"text-align: right;\">\n",
       "      <th></th>\n",
       "      <th>_golden</th>\n",
       "      <th>_trusted_judgments</th>\n",
       "      <th>_last_judgment_at</th>\n",
       "      <th>sentiment</th>\n",
       "      <th>sentiment:confidence</th>\n",
       "      <th>text</th>\n",
       "      <th>relevant</th>\n",
       "    </tr>\n",
       "    <tr>\n",
       "      <th>_unit_id</th>\n",
       "      <th></th>\n",
       "      <th></th>\n",
       "      <th></th>\n",
       "      <th></th>\n",
       "      <th></th>\n",
       "      <th></th>\n",
       "      <th></th>\n",
       "    </tr>\n",
       "  </thead>\n",
       "  <tbody>\n",
       "    <tr>\n",
       "      <th>724227031</th>\n",
       "      <td>True</td>\n",
       "      <td>236</td>\n",
       "      <td>NaT</td>\n",
       "      <td>5</td>\n",
       "      <td>0.7579</td>\n",
       "      <td>Two places I'd invest all my money if I could:...</td>\n",
       "      <td>False</td>\n",
       "    </tr>\n",
       "    <tr>\n",
       "      <th>724227032</th>\n",
       "      <td>True</td>\n",
       "      <td>231</td>\n",
       "      <td>NaT</td>\n",
       "      <td>5</td>\n",
       "      <td>0.8775</td>\n",
       "      <td>Awesome! Google driverless cars will help the ...</td>\n",
       "      <td>False</td>\n",
       "    </tr>\n",
       "    <tr>\n",
       "      <th>724227033</th>\n",
       "      <td>True</td>\n",
       "      <td>233</td>\n",
       "      <td>NaT</td>\n",
       "      <td>2</td>\n",
       "      <td>0.6805</td>\n",
       "      <td>If Google maps can't keep up with road constru...</td>\n",
       "      <td>False</td>\n",
       "    </tr>\n",
       "    <tr>\n",
       "      <th>724227034</th>\n",
       "      <td>True</td>\n",
       "      <td>240</td>\n",
       "      <td>NaT</td>\n",
       "      <td>2</td>\n",
       "      <td>0.8820</td>\n",
       "      <td>Autonomous cars seem way overhyped given the t...</td>\n",
       "      <td>False</td>\n",
       "    </tr>\n",
       "    <tr>\n",
       "      <th>724227035</th>\n",
       "      <td>True</td>\n",
       "      <td>240</td>\n",
       "      <td>NaT</td>\n",
       "      <td>3</td>\n",
       "      <td>1.0000</td>\n",
       "      <td>Just saw Google self-driving car on I-34. It w...</td>\n",
       "      <td>False</td>\n",
       "    </tr>\n",
       "  </tbody>\n",
       "</table>\n",
       "</div>"
      ],
      "text/plain": [
       "           _golden  _trusted_judgments _last_judgment_at sentiment  \\\n",
       "_unit_id                                                             \n",
       "724227031     True                 236               NaT         5   \n",
       "724227032     True                 231               NaT         5   \n",
       "724227033     True                 233               NaT         2   \n",
       "724227034     True                 240               NaT         2   \n",
       "724227035     True                 240               NaT         3   \n",
       "\n",
       "           sentiment:confidence  \\\n",
       "_unit_id                          \n",
       "724227031                0.7579   \n",
       "724227032                0.8775   \n",
       "724227033                0.6805   \n",
       "724227034                0.8820   \n",
       "724227035                1.0000   \n",
       "\n",
       "                                                        text  relevant  \n",
       "_unit_id                                                                \n",
       "724227031  Two places I'd invest all my money if I could:...     False  \n",
       "724227032  Awesome! Google driverless cars will help the ...     False  \n",
       "724227033  If Google maps can't keep up with road constru...     False  \n",
       "724227034  Autonomous cars seem way overhyped given the t...     False  \n",
       "724227035  Just saw Google self-driving car on I-34. It w...     False  "
      ]
     },
     "execution_count": 6,
     "metadata": {},
     "output_type": "execute_result"
    }
   ],
   "source": [
    "# Add feature identifying if text is relevant or not.\n",
    "data['relevant'] = np.where(data['sentiment'] == 'not_relevant', True, False)\n",
    "data.head()"
   ]
  },
  {
   "cell_type": "code",
   "execution_count": 7,
   "id": "e4ee5f6c",
   "metadata": {},
   "outputs": [],
   "source": [
    "# Replace not_relevant sentimenet with NaN\n",
    "data = data.replace(to_replace=r'not_relevant', value=np.nan, regex=True)\n",
    "\n",
    "# Convert sentiment column to numeric\n",
    "data['sentiment'] = pd.to_numeric(data['sentiment'])"
   ]
  },
  {
   "cell_type": "markdown",
   "id": "302fca9b",
   "metadata": {},
   "source": [
    "In our dataset, we have 3 numeric columns that we can extract descriptive statistics and perform EDA on. Looking at these 3 numeric variables, we can see: \n",
    "- **_trusted_judgments**: Has an extreamly high maximum value and mean > median indicating that it will be right skewed. We do not know the trye meaning of this numeric field, so these values don't have an impact of our understanding of the dataset. \n",
    "- **sentiment**: The ranges of this field is 1-5. There are less setiment counts than rows in the dataset, indicating that some tweets are not relevant and were not scored. We will be sure to scan the tweets for irrelevance during tokenization and cleaning. \n",
    "- **sentiment:confidence**: This is a probability value in between 0-1. We can insinuate that this field indicates the confidence the analyst who conducted the original setiment analysis has in the sentiment assignment of the tweet. "
   ]
  },
  {
   "cell_type": "code",
   "execution_count": 8,
   "id": "c584339e",
   "metadata": {},
   "outputs": [
    {
     "data": {
      "text/html": [
       "<div>\n",
       "<style scoped>\n",
       "    .dataframe tbody tr th:only-of-type {\n",
       "        vertical-align: middle;\n",
       "    }\n",
       "\n",
       "    .dataframe tbody tr th {\n",
       "        vertical-align: top;\n",
       "    }\n",
       "\n",
       "    .dataframe thead th {\n",
       "        text-align: right;\n",
       "    }\n",
       "</style>\n",
       "<table border=\"1\" class=\"dataframe\">\n",
       "  <thead>\n",
       "    <tr style=\"text-align: right;\">\n",
       "      <th></th>\n",
       "      <th>_trusted_judgments</th>\n",
       "      <th>sentiment</th>\n",
       "      <th>sentiment:confidence</th>\n",
       "    </tr>\n",
       "  </thead>\n",
       "  <tbody>\n",
       "    <tr>\n",
       "      <th>count</th>\n",
       "      <td>7156.000000</td>\n",
       "      <td>6943.000000</td>\n",
       "      <td>7156.000000</td>\n",
       "    </tr>\n",
       "    <tr>\n",
       "      <th>mean</th>\n",
       "      <td>5.834405</td>\n",
       "      <td>3.209852</td>\n",
       "      <td>0.774654</td>\n",
       "    </tr>\n",
       "    <tr>\n",
       "      <th>std</th>\n",
       "      <td>11.144930</td>\n",
       "      <td>0.768440</td>\n",
       "      <td>0.205363</td>\n",
       "    </tr>\n",
       "    <tr>\n",
       "      <th>min</th>\n",
       "      <td>1.000000</td>\n",
       "      <td>1.000000</td>\n",
       "      <td>0.248000</td>\n",
       "    </tr>\n",
       "    <tr>\n",
       "      <th>25%</th>\n",
       "      <td>3.000000</td>\n",
       "      <td>3.000000</td>\n",
       "      <td>0.630600</td>\n",
       "    </tr>\n",
       "    <tr>\n",
       "      <th>50%</th>\n",
       "      <td>4.000000</td>\n",
       "      <td>3.000000</td>\n",
       "      <td>0.753100</td>\n",
       "    </tr>\n",
       "    <tr>\n",
       "      <th>75%</th>\n",
       "      <td>8.000000</td>\n",
       "      <td>4.000000</td>\n",
       "      <td>1.000000</td>\n",
       "    </tr>\n",
       "    <tr>\n",
       "      <th>max</th>\n",
       "      <td>241.000000</td>\n",
       "      <td>5.000000</td>\n",
       "      <td>1.000000</td>\n",
       "    </tr>\n",
       "  </tbody>\n",
       "</table>\n",
       "</div>"
      ],
      "text/plain": [
       "       _trusted_judgments    sentiment  sentiment:confidence\n",
       "count         7156.000000  6943.000000           7156.000000\n",
       "mean             5.834405     3.209852              0.774654\n",
       "std             11.144930     0.768440              0.205363\n",
       "min              1.000000     1.000000              0.248000\n",
       "25%              3.000000     3.000000              0.630600\n",
       "50%              4.000000     3.000000              0.753100\n",
       "75%              8.000000     4.000000              1.000000\n",
       "max            241.000000     5.000000              1.000000"
      ]
     },
     "execution_count": 8,
     "metadata": {},
     "output_type": "execute_result"
    }
   ],
   "source": [
    "data.describe()"
   ]
  },
  {
   "cell_type": "markdown",
   "id": "ec0c28a6",
   "metadata": {},
   "source": [
    "### Plots"
   ]
  },
  {
   "cell_type": "code",
   "execution_count": 9,
   "id": "dfb6d8e7",
   "metadata": {
    "scrolled": true
   },
   "outputs": [
    {
     "data": {
      "image/png": "[encoded data removed]",
      "text/plain": [
       "<Figure size 432x288 with 1 Axes>"
      ]
     },
     "metadata": {
      "needs_background": "light"
     },
     "output_type": "display_data"
    }
   ],
   "source": [
    "data['_golden'].value_counts().plot.bar(title='Golden')\n",
    "plt.show()"
   ]
  },
  {
   "cell_type": "markdown",
   "id": "9aadb740",
   "metadata": {},
   "source": [
    "The **golden** is not clearly defined and looking at the data, there are only a few tweets marked true. This column will be removed from the dataset due to its ambiguity of the meaning. "
   ]
  },
  {
   "cell_type": "code",
   "execution_count": 10,
   "id": "dafd239d",
   "metadata": {
    "scrolled": true
   },
   "outputs": [
    {
     "data": {
      "image/png": "[encoded data removed]",
      "text/plain": [
       "<Figure size 432x288 with 1 Axes>"
      ]
     },
     "metadata": {
      "needs_background": "light"
     },
     "output_type": "display_data"
    }
   ],
   "source": [
    "data['_trusted_judgments'].plot.hist(title='Trusted Judgements')\n",
    "plt.show()"
   ]
  },
  {
   "cell_type": "markdown",
   "id": "c89aedd1",
   "metadata": {},
   "source": [
    "As indicated when looking at the descriptive statistics, the **trusted judgement** histogram is right skewed due to outliers. The meaning of this variable is still not clear, but we might assume that it is an indicator of the number of followers the tweeter has. If trusted judgement is low, it may be a regular person. If it is high, it maybe a celebrity or brand who were paid to tweet. We should look at this tweets specifically to see if they should be removed. "
   ]
  },
  {
   "cell_type": "code",
   "execution_count": 11,
   "id": "31297748",
   "metadata": {},
   "outputs": [
    {
     "data": {
      "image/png": "[encoded data removed]",
      "text/plain": [
       "<Figure size 432x288 with 1 Axes>"
      ]
     },
     "metadata": {
      "needs_background": "light"
     },
     "output_type": "display_data"
    }
   ],
   "source": [
    "data['_last_judgment_at'].dt.to_period('D').value_counts().sort_index().plot.bar(title='Histogram Last Judgement Date')\n",
    "plt.show()"
   ]
  },
  {
   "cell_type": "markdown",
   "id": "60e31892",
   "metadata": {},
   "source": [
    "The bar graph of tweet by **last judgement date** shows that there is a drastic increase in tweets on May 28, 2015. We should look into current events to see if there was a particular event on this date that caused the increase in tweets or if this is showing poor spread in sampling. "
   ]
  },
  {
   "cell_type": "code",
   "execution_count": 12,
   "id": "57d205d6",
   "metadata": {},
   "outputs": [
    {
     "data": {
      "text/plain": [
       "<AxesSubplot:title={'center':'Avg. Sentiment Last Judgement Date'}, xlabel='_last_judgment_at'>"
      ]
     },
     "execution_count": 12,
     "metadata": {},
     "output_type": "execute_result"
    },
    {
     "data": {
      "image/png": "[encoded data removed]",
      "text/plain": [
       "<Figure size 432x288 with 1 Axes>"
      ]
     },
     "metadata": {
      "needs_background": "light"
     },
     "output_type": "display_data"
    }
   ],
   "source": [
    "data[['_last_judgment_at', 'sentiment']].groupby(by=data['_last_judgment_at'].dt.to_period('D')).mean().sort_index().plot.bar(title='Avg. Sentiment Last Judgement Date')"
   ]
  },
  {
   "attachments": {
    "image.png": {
     "image/png": "[encoded data removed]"
    }
   },
   "cell_type": "markdown",
   "id": "5499efed",
   "metadata": {},
   "source": [
    "Looking at the average sentiment of the tweets overtime, the overall sentiment does not seem to be impacted by the increase in tweets on May 28th. Looking at Google Search Trends, it does not seem that May 28th had a particular event that may have caused the increase in tweets: https://trends.google.com/trends/explore?date=2015-05-20%202015-06-07&geo=US&q=self%20driving%20cars. There is an upward trend of increased searches after this day, however we would've expected this chart to be similar to the dramatic spike in the tweets historgam by date. This makes it seem that the last judgement date is not indicative of when the tweet was posted or the samples were not evenly distributed when pulled. \n",
    "\n",
    "![image.png](attachment:image.png)"
   ]
  },
  {
   "cell_type": "code",
   "execution_count": 13,
   "id": "5ad1bf24",
   "metadata": {},
   "outputs": [
    {
     "data": {
      "image/png": "[encoded data removed]",
      "text/plain": [
       "<Figure size 432x288 with 1 Axes>"
      ]
     },
     "metadata": {
      "needs_background": "light"
     },
     "output_type": "display_data"
    }
   ],
   "source": [
    "data['relevant'].value_counts().plot.bar(title='Relevant')\n",
    "plt.show()"
   ]
  },
  {
   "cell_type": "markdown",
   "id": "569c235a",
   "metadata": {},
   "source": [
    "The **relevant** column is a new column we created to split the features of sentiment value and relevance. All irrelevant tweets have a sentiment of NaN. Here, we see that there is a small proportion, 213, of tweets that are irrelevant to the goal of the analysis. These will be identified and removed when we are modeling sentiment. "
   ]
  },
  {
   "cell_type": "code",
   "execution_count": 14,
   "id": "07777cb9",
   "metadata": {},
   "outputs": [
    {
     "data": {
      "image/png": "[encoded data removed]",
      "text/plain": [
       "<Figure size 432x288 with 1 Axes>"
      ]
     },
     "metadata": {
      "needs_background": "light"
     },
     "output_type": "display_data"
    }
   ],
   "source": [
    "data['sentiment'].plot.hist(bins=5)\n",
    "plt.title('Sentiment')\n",
    "plt.show()"
   ]
  },
  {
   "cell_type": "markdown",
   "id": "0b32aa7b",
   "metadata": {},
   "source": [
    "Sentiment is our target variable. The **sentiment** variable shows a normal distribution. Assuming that 1 is bad sentiment, 3 is average, and 5 is good sentiment, this chart is not surprising as most people are showing an average sentiment, while stronger sentiments are less common. But, it is important to note that we have *imbalanced classes*. This will have an impact on our models as it will predict majority of tweets to be in in class 3. "
   ]
  },
  {
   "cell_type": "code",
   "execution_count": 15,
   "id": "94dcd20e",
   "metadata": {},
   "outputs": [
    {
     "data": {
      "image/png": "[encoded data removed]",
      "text/plain": [
       "<Figure size 432x288 with 1 Axes>"
      ]
     },
     "metadata": {
      "needs_background": "light"
     },
     "output_type": "display_data"
    }
   ],
   "source": [
    "data['sentiment:confidence'].plot.hist()\n",
    "plt.title('Sentiment Confidence')\n",
    "plt.show()"
   ]
  },
  {
   "cell_type": "markdown",
   "id": "a951e950",
   "metadata": {},
   "source": [
    "Lastly, the **sentiment:confidence** graph shows the spread of the analysts confidence in the sentiment assignment. Assuming that 1 is very confident and 0 is not confident. We see that majority of the tweets have > 0.7 confidence. This is validated by the sentiment:confidence mean being 0.77 in the descriptive statistics. "
   ]
  },
  {
   "cell_type": "markdown",
   "id": "7af1503e",
   "metadata": {},
   "source": [
    "***Indicate if you foresee any problems using the data to build a model to predict sentiment?***\n",
    "\n",
    "Overall, there are a few problem that were identified that we need to keep in mind when predicting sentiment: \n",
    "1. **Removing skewed tweets** - Ensure celebrity or brand tweets are removed from analysis. \n",
    "2. **Timing** - There is an abrupt increase in tweets after May 28th. When analyzing and predicting sentiment we should consider if this changed sentiment and potentially remove the earlier tweets if they could potentially skew predictions. \n",
    "3. **Irrelevant tweets** - Tweets should be identified as irrelevant if they do not have any connection to the goal of the analysis and removed to not skew the outcome."
   ]
  },
  {
   "cell_type": "code",
   "execution_count": 16,
   "id": "3968ee86",
   "metadata": {},
   "outputs": [],
   "source": [
    "# Drop unneeded golden column\n",
    "data = data.drop(columns='_golden')"
   ]
  },
  {
   "cell_type": "code",
   "execution_count": 17,
   "id": "476569fb",
   "metadata": {},
   "outputs": [],
   "source": [
    "# Display all rows and columns when printing\n",
    "pd.set_option('display.max_rows', None)\n",
    "pd.set_option('display.max_columns', None)\n",
    "pd.set_option('display.max_colwidth', None)"
   ]
  },
  {
   "cell_type": "code",
   "execution_count": 18,
   "id": "62b81894",
   "metadata": {},
   "outputs": [],
   "source": [
    "# Remove tweets that didn't have an original sentiment rating\n",
    "data = data[data['relevant'] == False]"
   ]
  },
  {
   "cell_type": "markdown",
   "id": "8a756943",
   "metadata": {},
   "source": [
    "## 2. Tokenizing the tweets\n",
    "\n",
    "Source: https://spacy.io/api/token"
   ]
  },
  {
   "cell_type": "code",
   "execution_count": 19,
   "id": "cbcb39f4",
   "metadata": {},
   "outputs": [],
   "source": [
    "import re               \n",
    "import spacy         \n",
    "import pandas as pd\n",
    "import numpy as np\n",
    "import matplotlib.pyplot as plt\n",
    "from nltk import tokenize \n",
    "from nltk.tokenize import TweetTokenizer\n",
    "from collections import Counter"
   ]
  },
  {
   "cell_type": "code",
   "execution_count": 20,
   "id": "c9d4e509",
   "metadata": {},
   "outputs": [],
   "source": [
    "# Build Dataframe with only tweets\n",
    "tweets = data['text']"
   ]
  },
  {
   "cell_type": "code",
   "execution_count": 21,
   "id": "8ff986c5",
   "metadata": {},
   "outputs": [],
   "source": [
    "nlp = spacy.load('en_core_web_sm')\n",
    "\n",
    "# Create array of clean tweets, lower case, no stop words or small words, no hyperlinks\n",
    "cleanedTweets = []\n",
    "tknzr = TweetTokenizer()\n",
    "for t in tweets: \n",
    "    cleaned = [word for word in tknzr.tokenize(t.lower()) \n",
    "               if word not in nlp.Defaults.stop_words \n",
    "               and len(word) > 2\n",
    "               and 'http://' not in word\n",
    "               and 'https://' not in word\n",
    "              ] \n",
    "    cleanedTweets.append(' '.join(cleaned))"
   ]
  },
  {
   "cell_type": "code",
   "execution_count": 22,
   "id": "4824674d",
   "metadata": {},
   "outputs": [
    {
     "data": {
      "text/plain": [
       "[\"places i'd invest money printing self-driving cars\",\n",
       " 'awesome google driverless cars help blind travel',\n",
       " \"google maps can't road construction supposed trust driverless car\",\n",
       " 'autonomous cars way overhyped given technology challenges pilotless planes doable needed',\n",
       " 'saw google self-driving car painted green blue']"
      ]
     },
     "execution_count": 22,
     "metadata": {},
     "output_type": "execute_result"
    }
   ],
   "source": [
    "cleanedTweets[:5]"
   ]
  },
  {
   "cell_type": "code",
   "execution_count": 23,
   "id": "abdf6349",
   "metadata": {},
   "outputs": [],
   "source": [
    "# Source: https://towardsdatascience.com/an-introduction-to-tweettokenizer-for-processing-tweets-9879389f8fe7\n",
    "tweetTokens = []\n",
    "for t in cleanedTweets:\n",
    "    tweetTokens.append(tknzr.tokenize(t))"
   ]
  },
  {
   "cell_type": "markdown",
   "id": "563e757a",
   "metadata": {},
   "source": [
    "### POS tagging"
   ]
  },
  {
   "cell_type": "code",
   "execution_count": 24,
   "id": "48c23b8e",
   "metadata": {},
   "outputs": [],
   "source": [
    "import re"
   ]
  },
  {
   "cell_type": "code",
   "execution_count": 25,
   "id": "9c213f52",
   "metadata": {
    "scrolled": true
   },
   "outputs": [],
   "source": [
    "# Build lists of all adjectives, nouns, and verbs. Count frequency by part of speech\n",
    "adjs = []\n",
    "nouns = []\n",
    "verbs = []\n",
    "puncts = []\n",
    "\n",
    "for t in cleanedTweets:\n",
    "    for token in nlp(t):\n",
    "        if token.pos_ == 'ADJ':\n",
    "            adjs.append(token.text)\n",
    "        elif token.pos_ == 'NOUN':\n",
    "            nouns.append(token.text)\n",
    "        elif token.pos_ == 'VERB':\n",
    "            verbs.append(token.text)\n",
    "        elif token.is_punct == True:\n",
    "            puncts.append(token.text)\n",
    "            \n",
    "adj_counter = Counter(adjs)\n",
    "noun_counter = Counter(nouns)\n",
    "verb_counter = Counter(verbs) \n",
    "punct_counter = Counter(puncts)"
   ]
  },
  {
   "cell_type": "code",
   "execution_count": 26,
   "id": "b2ec7a78",
   "metadata": {},
   "outputs": [
    {
     "data": {
      "text/plain": [
       "[('autonomous', 389),\n",
       " ('new', 216),\n",
       " ('future', 198),\n",
       " ('cool', 95),\n",
       " ('ready', 90),\n",
       " ('good', 84),\n",
       " ('legal', 83),\n",
       " ('great', 81),\n",
       " ('public', 69),\n",
       " ('awesome', 65)]"
      ]
     },
     "execution_count": 26,
     "metadata": {},
     "output_type": "execute_result"
    }
   ],
   "source": [
    "adj_counter.most_common(10)"
   ]
  },
  {
   "cell_type": "code",
   "execution_count": 27,
   "id": "5ceb7a51",
   "metadata": {},
   "outputs": [
    {
     "data": {
      "text/plain": [
       "[('self', 4031),\n",
       " ('car', 3640),\n",
       " ('cars', 3212),\n",
       " ('driverless', 1809),\n",
       " ('#', 611),\n",
       " ('vehicle', 197),\n",
       " ('uber', 197),\n",
       " ('driver', 192),\n",
       " ('google', 171),\n",
       " ('vehicles', 163)]"
      ]
     },
     "execution_count": 27,
     "metadata": {},
     "output_type": "execute_result"
    }
   ],
   "source": [
    "noun_counter.most_common(10)"
   ]
  },
  {
   "cell_type": "code",
   "execution_count": 28,
   "id": "12bf54b6",
   "metadata": {},
   "outputs": [
    {
     "data": {
      "text/plain": [
       "[('driving', 4193),\n",
       " ('saw', 289),\n",
       " ('think', 177),\n",
       " ('want', 163),\n",
       " ('need', 142),\n",
       " ('says', 123),\n",
       " ('going', 123),\n",
       " ('wait', 121),\n",
       " ('drive', 101),\n",
       " ('look', 93)]"
      ]
     },
     "execution_count": 28,
     "metadata": {},
     "output_type": "execute_result"
    }
   ],
   "source": [
    "verb_counter.most_common(10)"
   ]
  },
  {
   "cell_type": "code",
   "execution_count": 29,
   "id": "41d0ebbb",
   "metadata": {
    "scrolled": true
   },
   "outputs": [
    {
     "data": {
      "text/plain": [
       "[('-', 2996),\n",
       " ('#', 1881),\n",
       " ('...', 647),\n",
       " ('_', 25),\n",
       " (':-)', 12),\n",
       " ('--', 11),\n",
       " (';-)', 7),\n",
       " ('.', 6),\n",
       " (':-/', 2),\n",
       " (':', 2)]"
      ]
     },
     "execution_count": 29,
     "metadata": {},
     "output_type": "execute_result"
    }
   ],
   "source": [
    "punct_counter.most_common(10)"
   ]
  },
  {
   "cell_type": "markdown",
   "id": "26d6eda4",
   "metadata": {},
   "source": [
    "### Most common words & phrases"
   ]
  },
  {
   "cell_type": "code",
   "execution_count": 30,
   "id": "db7f9216",
   "metadata": {},
   "outputs": [],
   "source": [
    "from nltk import ngrams, FreqDist\n",
    "\n",
    "all_counts = dict()\n",
    "for size in 2, 3, 4, 5:\n",
    "    all_counts[size] = FreqDist(ngrams(data, size))"
   ]
  },
  {
   "cell_type": "code",
   "execution_count": 31,
   "id": "a0fed0a2",
   "metadata": {},
   "outputs": [
    {
     "data": {
      "text/plain": [
       "[('car', 3598),\n",
       " ('cars', 3191),\n",
       " ('self-driving', 2514),\n",
       " ('google', 2115),\n",
       " ('driverless', 1803),\n",
       " ('driving', 1705),\n",
       " ('self', 1460),\n",
       " ('...', 640),\n",
       " (\"google's\", 471),\n",
       " ('autonomous', 356),\n",
       " ('future', 303),\n",
       " ('saw', 291),\n",
       " ('@google', 268),\n",
       " ('like', 265),\n",
       " ('drive', 245),\n",
       " ('#google', 234),\n",
       " ('new', 233),\n",
       " ('vehicle', 199),\n",
       " ('need', 192),\n",
       " ('california', 188)]"
      ]
     },
     "execution_count": 31,
     "metadata": {},
     "output_type": "execute_result"
    }
   ],
   "source": [
    "# Find the most common words \n",
    "# Source: https://docs.python.org/3/library/collections.html#collections.Counter\n",
    "allTokens = [] \n",
    "\n",
    "for t in tweetTokens:\n",
    "    for w in t:\n",
    "        allTokens.append(w)\n",
    "    \n",
    "counts = Counter(allTokens)\n",
    "counts.most_common(20)"
   ]
  },
  {
   "cell_type": "code",
   "execution_count": 32,
   "id": "e9603999",
   "metadata": {},
   "outputs": [],
   "source": [
    "# Remove common words that will not help in prediction\n",
    "wordsToRemove = set()\n",
    "\n",
    "for w in counts.most_common(20):\n",
    "    wordsToRemove.add(w[0])"
   ]
  },
  {
   "cell_type": "code",
   "execution_count": 33,
   "id": "f2961186",
   "metadata": {},
   "outputs": [],
   "source": [
    "# Update cleanedTweets and retokenize\n",
    "cleanedTweets2 = []\n",
    "for t in cleanedTweets: \n",
    "    cleaned = [word for word in tknzr.tokenize(t.lower()) if word not in wordsToRemove] \n",
    "    cleanedTweets2.append(' '.join(cleaned))\n",
    "cleanedTweets = cleanedTweets2\n",
    "\n",
    "tweetTokens = []\n",
    "for t in cleanedTweets:\n",
    "    tweetTokens.append(tknzr.tokenize(t))"
   ]
  },
  {
   "cell_type": "markdown",
   "id": "a810dc10",
   "metadata": {},
   "source": [
    "### Stemming & lemmatizing\n",
    "\n",
    "Source: https://www.datacamp.com/community/tutorials/stemming-lemmatization-python\n"
   ]
  },
  {
   "cell_type": "code",
   "execution_count": 34,
   "id": "64d89a93",
   "metadata": {},
   "outputs": [],
   "source": [
    "from nltk.stem import PorterStemmer\n",
    "from nltk.stem import WordNetLemmatizer"
   ]
  },
  {
   "cell_type": "code",
   "execution_count": 35,
   "id": "7e42205c",
   "metadata": {
    "scrolled": true
   },
   "outputs": [
    {
     "name": "stderr",
     "output_type": "stream",
     "text": [
      "[nltk_data] Downloading package wordnet to\n",
      "[nltk_data]     C:\\Users\\Kelly\\AppData\\Roaming\\nltk_data...\n",
      "[nltk_data]   Package wordnet is already up-to-date!\n"
     ]
    },
    {
     "data": {
      "text/plain": [
       "True"
      ]
     },
     "execution_count": 35,
     "metadata": {},
     "output_type": "execute_result"
    }
   ],
   "source": [
    "import nltk\n",
    "nltk.download(\"wordnet\")"
   ]
  },
  {
   "cell_type": "markdown",
   "id": "aac9a672",
   "metadata": {},
   "source": [
    "#### Stemming"
   ]
  },
  {
   "cell_type": "code",
   "execution_count": 36,
   "id": "a01d5364",
   "metadata": {},
   "outputs": [],
   "source": [
    "p = PorterStemmer()\n",
    "stemTweets = []\n",
    "\n",
    "for t in cleanedTweets: \n",
    "    cleaned = [p.stem(word) for word in tknzr.tokenize(t)]\n",
    "    stemTweets.append(' '.join(cleaned))\n",
    "    \n",
    "stemTokens = []\n",
    "for s in stemTweets: \n",
    "    stemTokens.append(tknzr.tokenize(s))"
   ]
  },
  {
   "cell_type": "code",
   "execution_count": 37,
   "id": "dd082fc3",
   "metadata": {},
   "outputs": [
    {
     "data": {
      "text/plain": [
       "[['place', \"i'd\", 'invest', 'money', 'print'],\n",
       " ['awesom', 'help', 'blind', 'travel'],\n",
       " ['map', \"can't\", 'road', 'construct', 'suppos', 'trust'],\n",
       " ['way',\n",
       "  'overhyp',\n",
       "  'given',\n",
       "  'technolog',\n",
       "  'challeng',\n",
       "  'pilotless',\n",
       "  'plane',\n",
       "  'doabl',\n",
       "  'need'],\n",
       " ['paint', 'green', 'blue']]"
      ]
     },
     "execution_count": 37,
     "metadata": {},
     "output_type": "execute_result"
    }
   ],
   "source": [
    "stemTokens[:5]"
   ]
  },
  {
   "cell_type": "markdown",
   "id": "34aaed08",
   "metadata": {},
   "source": [
    "#### Lemmatization"
   ]
  },
  {
   "cell_type": "code",
   "execution_count": 38,
   "id": "26c71971",
   "metadata": {},
   "outputs": [],
   "source": [
    "wnl = WordNetLemmatizer()\n",
    "\n",
    "lemmaTweets = []\n",
    "for t in cleanedTweets: \n",
    "    cleaned = [wnl.lemmatize(word) for word in tknzr.tokenize(t)] \n",
    "    lemmaTweets.append(' '.join(cleaned))\n",
    "\n",
    "lemmaTokens = []\n",
    "for l in lemmaTweets:\n",
    "    lemmaTokens.append(tknzr.tokenize(l))"
   ]
  },
  {
   "cell_type": "code",
   "execution_count": 39,
   "id": "e0db0999",
   "metadata": {},
   "outputs": [
    {
     "data": {
      "text/plain": [
       "[['place', \"i'd\", 'invest', 'money', 'printing'],\n",
       " ['awesome', 'help', 'blind', 'travel'],\n",
       " ['map', \"can't\", 'road', 'construction', 'supposed', 'trust'],\n",
       " ['way',\n",
       "  'overhyped',\n",
       "  'given',\n",
       "  'technology',\n",
       "  'challenge',\n",
       "  'pilotless',\n",
       "  'plane',\n",
       "  'doable',\n",
       "  'needed'],\n",
       " ['painted', 'green', 'blue']]"
      ]
     },
     "execution_count": 39,
     "metadata": {},
     "output_type": "execute_result"
    }
   ],
   "source": [
    "lemmaTokens[:5]"
   ]
  },
  {
   "cell_type": "markdown",
   "id": "805ad3f1",
   "metadata": {},
   "source": [
    "For the purpose of our sentiment model, we will only choose one method of shortening the words... we will use **lemmatization**. While stemming takes the root of the word, lemmatization determins the lemma of the word, or the normal dictionary form. The lemmatized words will be must more impactful in analyzing sentiment. "
   ]
  },
  {
   "cell_type": "markdown",
   "id": "9e32f52c",
   "metadata": {},
   "source": [
    "## 3. Sentiment models\n",
    "\n",
    "### Create a model to predict what sentiment a Tweet will be given on the 1-5 scale. "
   ]
  },
  {
   "cell_type": "markdown",
   "id": "8d54e3e2",
   "metadata": {},
   "source": [
    "#### Vadar Sentiment Intensity Analyzer "
   ]
  },
  {
   "cell_type": "markdown",
   "id": "4ec97390",
   "metadata": {},
   "source": [
    "At first, I tried to use the Vadar Sentiment Intensity Analyzer that we learned about in class to determine the sentment of the tweet, a value between [-1, 1], and then scale this up to the range of [1, 5]. When rescaling, I add to ceil the values to the upper interger because this proved to get a more realistic prediction. This technique had a 54% accuracy of assigning the correct sentiment. \n",
    "\n",
    "Looking at the data, I decided to try out a supervised classification model becuase we have the true outcome sentiments that we are hoping to predict. "
   ]
  },
  {
   "cell_type": "code",
   "execution_count": 40,
   "id": "021b9a30",
   "metadata": {},
   "outputs": [],
   "source": [
    "# Source: https://maximumgenerality.wordpress.com/2016/10/03/sentiment-analysis-using-nlp/\n",
    "from nltk.sentiment.vader import SentimentIntensityAnalyzer\n",
    "from sklearn.metrics import confusion_matrix"
   ]
  },
  {
   "cell_type": "code",
   "execution_count": 41,
   "id": "a0a67608",
   "metadata": {},
   "outputs": [
    {
     "name": "stderr",
     "output_type": "stream",
     "text": [
      "[nltk_data] Downloading package vader_lexicon to\n",
      "[nltk_data]     C:\\Users\\Kelly\\AppData\\Roaming\\nltk_data...\n",
      "[nltk_data]   Package vader_lexicon is already up-to-date!\n"
     ]
    },
    {
     "data": {
      "text/plain": [
       "True"
      ]
     },
     "execution_count": 41,
     "metadata": {},
     "output_type": "execute_result"
    }
   ],
   "source": [
    "nltk.download('vader_lexicon')"
   ]
  },
  {
   "cell_type": "code",
   "execution_count": 42,
   "id": "25280d85",
   "metadata": {},
   "outputs": [],
   "source": [
    "sia = SentimentIntensityAnalyzer()"
   ]
  },
  {
   "cell_type": "code",
   "execution_count": 43,
   "id": "e03c4e37",
   "metadata": {},
   "outputs": [],
   "source": [
    "def getVadarPolarity(tweet):\n",
    "    return sia.polarity_scores(tweet)['compound']"
   ]
  },
  {
   "cell_type": "code",
   "execution_count": 44,
   "id": "7c15b85b",
   "metadata": {},
   "outputs": [],
   "source": [
    "# Source: https://towardsdatascience.com/fine-grained-sentiment-analysis-in-python-part-1-2697bb111ed4 \n",
    "predicted_vadar = []\n",
    "for l in lemmaTweets: # Using the lemmatized tweets\n",
    "    predicted_vadar.append(getVadarPolarity(l)) \n",
    "\n",
    "# Cut dataset into 5 bins for sentiment score assignment\n",
    "data['predicted_vadar'] = pd.cut(predicted_vadar, bins=5, labels=[1, 2, 3, 4, 5]) "
   ]
  },
  {
   "cell_type": "code",
   "execution_count": 45,
   "id": "57828e9c",
   "metadata": {
    "scrolled": false
   },
   "outputs": [
    {
     "data": {
      "text/html": [
       "<div>\n",
       "<style scoped>\n",
       "    .dataframe tbody tr th:only-of-type {\n",
       "        vertical-align: middle;\n",
       "    }\n",
       "\n",
       "    .dataframe tbody tr th {\n",
       "        vertical-align: top;\n",
       "    }\n",
       "\n",
       "    .dataframe thead th {\n",
       "        text-align: right;\n",
       "    }\n",
       "</style>\n",
       "<table border=\"1\" class=\"dataframe\">\n",
       "  <thead>\n",
       "    <tr style=\"text-align: right;\">\n",
       "      <th></th>\n",
       "      <th>sentiment</th>\n",
       "      <th>predicted_vadar</th>\n",
       "      <th>text</th>\n",
       "    </tr>\n",
       "    <tr>\n",
       "      <th>_unit_id</th>\n",
       "      <th></th>\n",
       "      <th></th>\n",
       "      <th></th>\n",
       "    </tr>\n",
       "  </thead>\n",
       "  <tbody>\n",
       "    <tr>\n",
       "      <th>724227031</th>\n",
       "      <td>5.0</td>\n",
       "      <td>3</td>\n",
       "      <td>Two places I'd invest all my money if I could: 3D printing and Self-driving cars!!!</td>\n",
       "    </tr>\n",
       "    <tr>\n",
       "      <th>724227032</th>\n",
       "      <td>5.0</td>\n",
       "      <td>5</td>\n",
       "      <td>Awesome! Google driverless cars will help the blind travel more often; https://t.co/QWuXR0FrBpv</td>\n",
       "    </tr>\n",
       "    <tr>\n",
       "      <th>724227033</th>\n",
       "      <td>2.0</td>\n",
       "      <td>4</td>\n",
       "      <td>If Google maps can't keep up with road construction, how am I supposed to trust a driverless car to get around here?</td>\n",
       "    </tr>\n",
       "    <tr>\n",
       "      <th>724227034</th>\n",
       "      <td>2.0</td>\n",
       "      <td>3</td>\n",
       "      <td>Autonomous cars seem way overhyped given the technology challenges; pilotless planes seem much more doable and needed.</td>\n",
       "    </tr>\n",
       "    <tr>\n",
       "      <th>724227035</th>\n",
       "      <td>3.0</td>\n",
       "      <td>3</td>\n",
       "      <td>Just saw Google self-driving car on I-34. It was painted green and blue.</td>\n",
       "    </tr>\n",
       "  </tbody>\n",
       "</table>\n",
       "</div>"
      ],
      "text/plain": [
       "           sentiment predicted_vadar  \\\n",
       "_unit_id                               \n",
       "724227031        5.0               3   \n",
       "724227032        5.0               5   \n",
       "724227033        2.0               4   \n",
       "724227034        2.0               3   \n",
       "724227035        3.0               3   \n",
       "\n",
       "                                                                                                                             text  \n",
       "_unit_id                                                                                                                           \n",
       "724227031                                     Two places I'd invest all my money if I could: 3D printing and Self-driving cars!!!  \n",
       "724227032                         Awesome! Google driverless cars will help the blind travel more often; https://t.co/QWuXR0FrBpv  \n",
       "724227033    If Google maps can't keep up with road construction, how am I supposed to trust a driverless car to get around here?  \n",
       "724227034  Autonomous cars seem way overhyped given the technology challenges; pilotless planes seem much more doable and needed.  \n",
       "724227035                                                Just saw Google self-driving car on I-34. It was painted green and blue.  "
      ]
     },
     "execution_count": 45,
     "metadata": {},
     "output_type": "execute_result"
    }
   ],
   "source": [
    "data[['sentiment', 'predicted_vadar', 'text']].head()"
   ]
  },
  {
   "cell_type": "markdown",
   "id": "84bd067c",
   "metadata": {},
   "source": [
    "**Textblob**\n",
    "\n",
    "Source: \n",
    "- https://towardsdatascience.com/my-absolute-go-to-for-sentiment-analysis-textblob-3ac3a11d524\n",
    "- https://textblob.readthedocs.io/en/dev/quickstart.html#sentiment-analysis"
   ]
  },
  {
   "cell_type": "code",
   "execution_count": 46,
   "id": "3836fae4",
   "metadata": {},
   "outputs": [],
   "source": [
    "from textblob import TextBlob"
   ]
  },
  {
   "cell_type": "code",
   "execution_count": 47,
   "id": "045ed79e",
   "metadata": {},
   "outputs": [],
   "source": [
    "def getTextBlobPolarity(text):\n",
    "    return TextBlob(text).sentiment.polarity"
   ]
  },
  {
   "cell_type": "code",
   "execution_count": 48,
   "id": "cff36721",
   "metadata": {},
   "outputs": [],
   "source": [
    "predicted_textblob = []\n",
    "for l in lemmaTweets:\n",
    "    predicted_textblob.append(getTextBlobPolarity(l)) \n",
    "        \n",
    "# Cut dataset into 5 bins for sentiment score assignment\n",
    "data['predicted_textblob'] = pd.cut(predicted_textblob, bins=5, labels=[1, 2, 3, 4, 5]) "
   ]
  },
  {
   "cell_type": "code",
   "execution_count": 49,
   "id": "0a1b6cf2",
   "metadata": {},
   "outputs": [
    {
     "data": {
      "text/html": [
       "<div>\n",
       "<style scoped>\n",
       "    .dataframe tbody tr th:only-of-type {\n",
       "        vertical-align: middle;\n",
       "    }\n",
       "\n",
       "    .dataframe tbody tr th {\n",
       "        vertical-align: top;\n",
       "    }\n",
       "\n",
       "    .dataframe thead th {\n",
       "        text-align: right;\n",
       "    }\n",
       "</style>\n",
       "<table border=\"1\" class=\"dataframe\">\n",
       "  <thead>\n",
       "    <tr style=\"text-align: right;\">\n",
       "      <th></th>\n",
       "      <th>sentiment</th>\n",
       "      <th>predicted_textblob</th>\n",
       "      <th>text</th>\n",
       "    </tr>\n",
       "    <tr>\n",
       "      <th>_unit_id</th>\n",
       "      <th></th>\n",
       "      <th></th>\n",
       "      <th></th>\n",
       "    </tr>\n",
       "  </thead>\n",
       "  <tbody>\n",
       "    <tr>\n",
       "      <th>724227031</th>\n",
       "      <td>5.0</td>\n",
       "      <td>3</td>\n",
       "      <td>Two places I'd invest all my money if I could: 3D printing and Self-driving cars!!!</td>\n",
       "    </tr>\n",
       "    <tr>\n",
       "      <th>724227032</th>\n",
       "      <td>5.0</td>\n",
       "      <td>4</td>\n",
       "      <td>Awesome! Google driverless cars will help the blind travel more often; https://t.co/QWuXR0FrBpv</td>\n",
       "    </tr>\n",
       "    <tr>\n",
       "      <th>724227033</th>\n",
       "      <td>2.0</td>\n",
       "      <td>3</td>\n",
       "      <td>If Google maps can't keep up with road construction, how am I supposed to trust a driverless car to get around here?</td>\n",
       "    </tr>\n",
       "    <tr>\n",
       "      <th>724227034</th>\n",
       "      <td>2.0</td>\n",
       "      <td>3</td>\n",
       "      <td>Autonomous cars seem way overhyped given the technology challenges; pilotless planes seem much more doable and needed.</td>\n",
       "    </tr>\n",
       "    <tr>\n",
       "      <th>724227035</th>\n",
       "      <td>3.0</td>\n",
       "      <td>3</td>\n",
       "      <td>Just saw Google self-driving car on I-34. It was painted green and blue.</td>\n",
       "    </tr>\n",
       "  </tbody>\n",
       "</table>\n",
       "</div>"
      ],
      "text/plain": [
       "           sentiment predicted_textblob  \\\n",
       "_unit_id                                  \n",
       "724227031        5.0                  3   \n",
       "724227032        5.0                  4   \n",
       "724227033        2.0                  3   \n",
       "724227034        2.0                  3   \n",
       "724227035        3.0                  3   \n",
       "\n",
       "                                                                                                                             text  \n",
       "_unit_id                                                                                                                           \n",
       "724227031                                     Two places I'd invest all my money if I could: 3D printing and Self-driving cars!!!  \n",
       "724227032                         Awesome! Google driverless cars will help the blind travel more often; https://t.co/QWuXR0FrBpv  \n",
       "724227033    If Google maps can't keep up with road construction, how am I supposed to trust a driverless car to get around here?  \n",
       "724227034  Autonomous cars seem way overhyped given the technology challenges; pilotless planes seem much more doable and needed.  \n",
       "724227035                                                Just saw Google self-driving car on I-34. It was painted green and blue.  "
      ]
     },
     "execution_count": 49,
     "metadata": {},
     "output_type": "execute_result"
    }
   ],
   "source": [
    "data[['sentiment', 'predicted_textblob', 'text']].head()"
   ]
  },
  {
   "cell_type": "markdown",
   "id": "228b888e",
   "metadata": {},
   "source": [
    "#### Logistic Regression\n",
    "\n",
    "Logistic regression can be used to build a supervised model to predict sentiment based off of the dataset. This can be used if we expect future tweets to have similar to older tweets. However, because customer sentiment can change drastically, using the Vadar or Textblob models is better for determining the true sentiment of the text. \n",
    "\n",
    "Sources: \n",
    "- https://www.analyticsvidhya.com/blog/2021/06/twitter-sentiment-analysis-a-nlp-use-case-for-beginners/\n",
    "- https://machinelearningmastery.com/multinomial-logistic-regression-with-python/"
   ]
  },
  {
   "cell_type": "code",
   "execution_count": 50,
   "id": "e701ce1c",
   "metadata": {},
   "outputs": [
    {
     "name": "stdout",
     "output_type": "stream",
     "text": [
      "Requirement already satisfied: imbalanced-learn in c:\\users\\kelly\\anaconda3\\lib\\site-packages (0.9.0)\n",
      "Requirement already satisfied: threadpoolctl>=2.0.0 in c:\\users\\kelly\\anaconda3\\lib\\site-packages (from imbalanced-learn) (2.1.0)\n",
      "Requirement already satisfied: numpy>=1.14.6 in c:\\users\\kelly\\anaconda3\\lib\\site-packages (from imbalanced-learn) (1.19.5)\n",
      "Requirement already satisfied: joblib>=0.11 in c:\\users\\kelly\\anaconda3\\lib\\site-packages (from imbalanced-learn) (1.0.1)\n",
      "Requirement already satisfied: scikit-learn>=1.0.1 in c:\\users\\kelly\\anaconda3\\lib\\site-packages (from imbalanced-learn) (1.0.2)\n",
      "Requirement already satisfied: scipy>=1.1.0 in c:\\users\\kelly\\anaconda3\\lib\\site-packages (from imbalanced-learn) (1.6.2)\n"
     ]
    }
   ],
   "source": [
    "!pip install imbalanced-learn"
   ]
  },
  {
   "cell_type": "code",
   "execution_count": 51,
   "id": "e4a27402",
   "metadata": {},
   "outputs": [],
   "source": [
    "from sklearn.linear_model import LogisticRegression\n",
    "from sklearn.model_selection import train_test_split\n",
    "from sklearn.feature_extraction.text import TfidfVectorizer\n",
    "from sklearn.multiclass import OneVsRestClassifier"
   ]
  },
  {
   "cell_type": "code",
   "execution_count": 52,
   "id": "0ac3e2b5",
   "metadata": {},
   "outputs": [],
   "source": [
    "# Added lemmantized tokens to main dataset\n",
    "data['textTokens'] = lemmaTweets"
   ]
  },
  {
   "cell_type": "code",
   "execution_count": 55,
   "id": "8f428647",
   "metadata": {},
   "outputs": [],
   "source": [
    "X = data['textTokens']\n",
    "y = data['sentiment']\n",
    "\n",
    "X_train, X_test, y_train, y_test = train_test_split(X, y)"
   ]
  },
  {
   "cell_type": "code",
   "execution_count": 56,
   "id": "10b070c9",
   "metadata": {},
   "outputs": [],
   "source": [
    "# Create vector \n",
    "vec = TfidfVectorizer(max_features=500000)\n",
    "vec.fit(X_train)\n",
    "\n",
    "# Transform data with vector\n",
    "X_train = vec.transform(X_train)\n",
    "X_test  = vec.transform(X_test)"
   ]
  },
  {
   "cell_type": "code",
   "execution_count": 57,
   "id": "4ba06046",
   "metadata": {},
   "outputs": [],
   "source": [
    "# Build Logistic Regression model\n",
    "logreg = OneVsRestClassifier(LogisticRegression(multi_class='multinomial', solver='lbfgs', max_iter=1000)) # Defualt l2 penalty with C=1\n",
    "logreg.fit(X_train, y_train)\n",
    "y_pred = logreg.predict(X_test)\n",
    "y_pred_prob = logreg.predict_proba(X_test)"
   ]
  },
  {
   "cell_type": "code",
   "execution_count": 58,
   "id": "1e93b8fa",
   "metadata": {},
   "outputs": [],
   "source": [
    "# Predict all data points\n",
    "X_full_predictions = vec.transform(X)\n",
    "data['predicted_logreg'] = logreg.predict(X_full_predictions)"
   ]
  },
  {
   "cell_type": "code",
   "execution_count": 59,
   "id": "44cc85d2",
   "metadata": {},
   "outputs": [
    {
     "data": {
      "text/html": [
       "<div>\n",
       "<style scoped>\n",
       "    .dataframe tbody tr th:only-of-type {\n",
       "        vertical-align: middle;\n",
       "    }\n",
       "\n",
       "    .dataframe tbody tr th {\n",
       "        vertical-align: top;\n",
       "    }\n",
       "\n",
       "    .dataframe thead th {\n",
       "        text-align: right;\n",
       "    }\n",
       "</style>\n",
       "<table border=\"1\" class=\"dataframe\">\n",
       "  <thead>\n",
       "    <tr style=\"text-align: right;\">\n",
       "      <th></th>\n",
       "      <th>sentiment</th>\n",
       "      <th>predicted_logreg</th>\n",
       "      <th>text</th>\n",
       "    </tr>\n",
       "    <tr>\n",
       "      <th>_unit_id</th>\n",
       "      <th></th>\n",
       "      <th></th>\n",
       "      <th></th>\n",
       "    </tr>\n",
       "  </thead>\n",
       "  <tbody>\n",
       "    <tr>\n",
       "      <th>724227031</th>\n",
       "      <td>5.0</td>\n",
       "      <td>3.0</td>\n",
       "      <td>Two places I'd invest all my money if I could: 3D printing and Self-driving cars!!!</td>\n",
       "    </tr>\n",
       "    <tr>\n",
       "      <th>724227032</th>\n",
       "      <td>5.0</td>\n",
       "      <td>5.0</td>\n",
       "      <td>Awesome! Google driverless cars will help the blind travel more often; https://t.co/QWuXR0FrBpv</td>\n",
       "    </tr>\n",
       "    <tr>\n",
       "      <th>724227033</th>\n",
       "      <td>2.0</td>\n",
       "      <td>2.0</td>\n",
       "      <td>If Google maps can't keep up with road construction, how am I supposed to trust a driverless car to get around here?</td>\n",
       "    </tr>\n",
       "    <tr>\n",
       "      <th>724227034</th>\n",
       "      <td>2.0</td>\n",
       "      <td>3.0</td>\n",
       "      <td>Autonomous cars seem way overhyped given the technology challenges; pilotless planes seem much more doable and needed.</td>\n",
       "    </tr>\n",
       "    <tr>\n",
       "      <th>724227035</th>\n",
       "      <td>3.0</td>\n",
       "      <td>3.0</td>\n",
       "      <td>Just saw Google self-driving car on I-34. It was painted green and blue.</td>\n",
       "    </tr>\n",
       "  </tbody>\n",
       "</table>\n",
       "</div>"
      ],
      "text/plain": [
       "           sentiment  predicted_logreg  \\\n",
       "_unit_id                                 \n",
       "724227031        5.0               3.0   \n",
       "724227032        5.0               5.0   \n",
       "724227033        2.0               2.0   \n",
       "724227034        2.0               3.0   \n",
       "724227035        3.0               3.0   \n",
       "\n",
       "                                                                                                                             text  \n",
       "_unit_id                                                                                                                           \n",
       "724227031                                     Two places I'd invest all my money if I could: 3D printing and Self-driving cars!!!  \n",
       "724227032                         Awesome! Google driverless cars will help the blind travel more often; https://t.co/QWuXR0FrBpv  \n",
       "724227033    If Google maps can't keep up with road construction, how am I supposed to trust a driverless car to get around here?  \n",
       "724227034  Autonomous cars seem way overhyped given the technology challenges; pilotless planes seem much more doable and needed.  \n",
       "724227035                                                Just saw Google self-driving car on I-34. It was painted green and blue.  "
      ]
     },
     "execution_count": 59,
     "metadata": {},
     "output_type": "execute_result"
    }
   ],
   "source": [
    "data[['sentiment', 'predicted_logreg', 'text']].head()"
   ]
  },
  {
   "cell_type": "markdown",
   "id": "b8e1790d",
   "metadata": {},
   "source": [
    "### What are the 10 top words/tokens for each sentiment rating?\n",
    "\n",
    "To look at the top words, we will use the TextBlob predictions only. "
   ]
  },
  {
   "cell_type": "code",
   "execution_count": 60,
   "id": "bb48e472",
   "metadata": {},
   "outputs": [],
   "source": [
    "def topWordsForSentiment(sentimentValue):\n",
    "    predTokens = [] \n",
    "    predSentiment = data[data['predicted_textblob'] == sentimentValue]\n",
    "\n",
    "    for p in predSentiment['textTokens']:\n",
    "        for l in tknzr.tokenize(p):\n",
    "            predTokens.append(l)\n",
    "\n",
    "    counts = Counter(predTokens)\n",
    "    return counts.most_common(20)"
   ]
  },
  {
   "cell_type": "code",
   "execution_count": 61,
   "id": "20975e26",
   "metadata": {
    "scrolled": false
   },
   "outputs": [
    {
     "name": "stdout",
     "output_type": "stream",
     "text": [
      "Top Words for predicted sentiment 1 :\n",
      "[('bad', 19), ('hate', 12), ('driver', 11), ('want', 8), ('think', 7), ('crazy', 7), ('people', 7), ('road', 7), ('boring', 7), ('traffic', 6), ('idiot', 5), ('thing', 5), ('today', 5), ('robot', 5), (\"don't\", 5), ('terrible', 4), (\"can't\", 4), ('sick', 4), ('time', 4), ('come', 4)]\n",
      "\n",
      "Top Words for predicted sentiment 2 :\n",
      "[('mean', 32), ('driver', 29), ('people', 27), (\"i'm\", 23), ('drunk', 22), ('shit', 19), ('road', 17), ('wrong', 17), ('look', 17), (\"can't\", 15), ('past', 15), ('fuck', 15), ('game', 15), ('hard', 14), (\"don't\", 14), ('wheel', 14), ('want', 14), (\"it's\", 13), ('uber', 13), ('blind', 12)]\n",
      "\n",
      "Top Words for predicted sentiment 3 :\n",
      "[('road', 198), ('driver', 159), ('want', 147), ('uber', 142), ('think', 137), ('street', 126), ('wheel', 122), ('vehicle', 121), ('year', 113), ('today', 111), ('look', 110), (\"can't\", 105), ('city', 99), ('way', 98), ('time', 98), ('going', 98), ('technology', 94), (\"i'm\", 94), ('steering', 94), ('say', 93)]\n",
      "\n",
      "Top Words for predicted sentiment 4 :\n",
      "[('cool', 100), ('right', 61), ('love', 58), ('interesting', 56), ('better', 46), ('pretty', 43), (\"i'm\", 38), ('sure', 36), ('want', 34), ('driver', 34), ('people', 30), ('street', 30), ('amazing', 29), ('think', 29), ('great', 29), ('road', 29), ('good', 28), ('vehicle', 27), ('way', 27), (\"that's\", 27)]\n",
      "\n",
      "Top Words for predicted sentiment 5 :\n",
      "[('great', 46), ('good', 44), ('awesome', 42), ('lol', 26), ('best', 19), ('perfect', 14), (\"it's\", 13), ('think', 10), ('day', 10), ('road', 10), ('welcome', 10), ('driver', 9), ('idea', 9), (\"i'm\", 8), ('fly', 8), ('google̢', 8), ('fascinating', 7), ('stuff', 7), ('technology', 7), ('uber', 7)]\n",
      "\n"
     ]
    }
   ],
   "source": [
    "values = [1, 2, 3, 4, 5]\n",
    "\n",
    "for v in values:\n",
    "    print('Top Words for predicted sentiment', v, ':')\n",
    "    print(topWordsForSentiment(v))\n",
    "    print()"
   ]
  },
  {
   "cell_type": "markdown",
   "id": "18e013c7",
   "metadata": {},
   "source": [
    "## 4. Evaluating performance\n",
    "\n",
    "Source: https://www.analyticsvidhya.com/blog/2020/06/auc-roc-curve-machine-learning/\n",
    "\n",
    "### Evaluate how well the model performs for each rating (1-5).  "
   ]
  },
  {
   "cell_type": "markdown",
   "id": "d3328a54",
   "metadata": {},
   "source": [
    "To evaluate preformance of each rating, I will look at the accuracy, precision, recall, and F1 score from the classifcation report as well as the confusion matrix. \n",
    "\n",
    "Considering these numbers, it is clear to see that rating class 3 is the most accuractly predicted. This is not a coincidence because class 3 is the has the most samples in our training data. The model has more class 3 samples to learn from. "
   ]
  },
  {
   "cell_type": "code",
   "execution_count": 62,
   "id": "c69a844b",
   "metadata": {},
   "outputs": [],
   "source": [
    "from sklearn.metrics import confusion_matrix, classification_report\n",
    "from sklearn.metrics import roc_curve, auc"
   ]
  },
  {
   "cell_type": "code",
   "execution_count": 63,
   "id": "e1d182dc",
   "metadata": {},
   "outputs": [],
   "source": [
    "# Plot multi-class confusion matrix\n",
    "# I did not write this funciton. All credits goes to the source below. \n",
    "# Source: https://datascience.stackexchange.com/questions/40067/confusion-matrix-three-classes-python \n",
    "def plot_confusion_matrix(cm, classes,\n",
    "                          normalize=False,\n",
    "                          title='Confusion matrix',\n",
    "                          cmap=plt.cm.Blues):\n",
    "    \"\"\"\n",
    "    This function prints and plots the confusion matrix.\n",
    "    Normalization can be applied by setting `normalize=True`.\n",
    "    \"\"\"\n",
    "    import itertools\n",
    "    if normalize:\n",
    "        cm = cm.astype('float') / cm.sum(axis=1)[:, np.newaxis]\n",
    "        print(\"Normalized confusion matrix\")\n",
    "    else:\n",
    "        print('Confusion matrix, without normalization')\n",
    "\n",
    "    print(cm)\n",
    "\n",
    "    plt.imshow(cm, interpolation='nearest', cmap=cmap)\n",
    "    plt.title(title)\n",
    "    plt.colorbar()\n",
    "    tick_marks = np.arange(len(classes))\n",
    "    plt.xticks(tick_marks, classes, rotation=45)\n",
    "    plt.yticks(tick_marks, classes)\n",
    "\n",
    "    fmt = '.2f' if normalize else 'd'\n",
    "    thresh = cm.max() / 2.\n",
    "    for i, j in itertools.product(range(cm.shape[0]), range(cm.shape[1])):\n",
    "        plt.text(j, i, format(cm[i, j], fmt),\n",
    "                 horizontalalignment=\"center\",\n",
    "                 color=\"white\" if cm[i, j] > thresh else \"black\")\n",
    "\n",
    "    plt.ylabel('True label')\n",
    "    plt.xlabel('Predicted label')\n",
    "    plt.tight_layout()"
   ]
  },
  {
   "cell_type": "markdown",
   "id": "405277f3",
   "metadata": {},
   "source": [
    "#### Vadar Sentiment Intensity Analyzer "
   ]
  },
  {
   "cell_type": "markdown",
   "id": "953c8bad",
   "metadata": {},
   "source": [
    "The Vadar model shows an overall accuracy score of 0.54 and a weighted F1-score as 0.55. "
   ]
  },
  {
   "cell_type": "code",
   "execution_count": 64,
   "id": "6990de42",
   "metadata": {
    "scrolled": true
   },
   "outputs": [
    {
     "name": "stdout",
     "output_type": "stream",
     "text": [
      "Vadar Model\n",
      "              precision    recall  f1-score   support\n",
      "\n",
      "         1.0       0.13      0.34      0.19       110\n",
      "         2.0       0.26      0.27      0.26       685\n",
      "         3.0       0.74      0.70      0.72      4245\n",
      "         4.0       0.32      0.29      0.30      1444\n",
      "         5.0       0.21      0.29      0.24       459\n",
      "\n",
      "    accuracy                           0.54      6943\n",
      "   macro avg       0.33      0.38      0.34      6943\n",
      "weighted avg       0.56      0.54      0.55      6943\n",
      "\n"
     ]
    }
   ],
   "source": [
    "print(\"Vadar Model\")\n",
    "print(classification_report(data['sentiment'], data['predicted_vadar']))"
   ]
  },
  {
   "cell_type": "code",
   "execution_count": 65,
   "id": "57f2bca0",
   "metadata": {},
   "outputs": [
    {
     "name": "stdout",
     "output_type": "stream",
     "text": [
      "Confusion matrix, without normalization\n",
      "[[  37   27   32   12    2]\n",
      " [  80  182  272  103   48]\n",
      " [  88  322 2962  659  214]\n",
      " [  61  146  576  412  249]\n",
      " [  12   28  166  119  134]]\n"
     ]
    },
    {
     "data": {
      "image/png": "[encoded data removed]",
      "text/plain": [
       "<Figure size 432x288 with 2 Axes>"
      ]
     },
     "metadata": {
      "needs_background": "light"
     },
     "output_type": "display_data"
    }
   ],
   "source": [
    "# Plot confusion matrix\n",
    "cnf_matrix = confusion_matrix(data['sentiment'], data['predicted_vadar'],labels=[1,2,3,4,5])\n",
    "np.set_printoptions(precision=2)\n",
    "\n",
    "# Plot non-normalized confusion matrix\n",
    "plt.figure()\n",
    "plot_confusion_matrix(cnf_matrix, classes=[1,2,3,4,5],\n",
    "                      title='Confusion matrix, without normalization')"
   ]
  },
  {
   "cell_type": "markdown",
   "id": "dfe70ec9",
   "metadata": {},
   "source": [
    "#### Textblob"
   ]
  },
  {
   "cell_type": "markdown",
   "id": "255ceaa6",
   "metadata": {},
   "source": [
    "The textblob model shows an accuracy score of 0.58 and a weighted F1-score of 0.54."
   ]
  },
  {
   "cell_type": "code",
   "execution_count": 66,
   "id": "f84d6754",
   "metadata": {},
   "outputs": [
    {
     "name": "stdout",
     "output_type": "stream",
     "text": [
      "Textblob Model\n",
      "              precision    recall  f1-score   support\n",
      "\n",
      "         1.0       0.04      0.05      0.05       110\n",
      "         2.0       0.21      0.14      0.17       685\n",
      "         3.0       0.68      0.82      0.75      4245\n",
      "         4.0       0.36      0.25      0.30      1444\n",
      "         5.0       0.20      0.12      0.15       459\n",
      "\n",
      "    accuracy                           0.58      6943\n",
      "   macro avg       0.30      0.27      0.28      6943\n",
      "weighted avg       0.53      0.58      0.54      6943\n",
      "\n"
     ]
    }
   ],
   "source": [
    "print(\"Textblob Model\")\n",
    "print(classification_report(data['sentiment'], data['predicted_textblob']))"
   ]
  },
  {
   "cell_type": "code",
   "execution_count": 67,
   "id": "b189caec",
   "metadata": {},
   "outputs": [
    {
     "name": "stdout",
     "output_type": "stream",
     "text": [
      "Confusion matrix, without normalization\n",
      "[[   5   31   61    6    7]\n",
      " [  26   93  461   85   20]\n",
      " [  44  194 3486  427   94]\n",
      " [  30  105  850  363   96]\n",
      " [   7   16  252  130   54]]\n"
     ]
    },
    {
     "data": {
      "image/png": "[encoded data removed]",
      "text/plain": [
       "<Figure size 432x288 with 2 Axes>"
      ]
     },
     "metadata": {
      "needs_background": "light"
     },
     "output_type": "display_data"
    }
   ],
   "source": [
    "# Plot confusion matrix\n",
    "cnf_matrix = confusion_matrix(data['sentiment'], data['predicted_textblob'],labels=[1,2,3,4,5])\n",
    "np.set_printoptions(precision=2)\n",
    "\n",
    "# Plot non-normalized confusion matrix\n",
    "plt.figure()\n",
    "plot_confusion_matrix(cnf_matrix, classes=[1,2,3,4,5],\n",
    "                      title='Confusion matrix, without normalization')"
   ]
  },
  {
   "cell_type": "markdown",
   "id": "b93d4dd2",
   "metadata": {},
   "source": [
    "#### Logistic Regression"
   ]
  },
  {
   "cell_type": "code",
   "execution_count": 68,
   "id": "fccd1b80",
   "metadata": {
    "scrolled": true
   },
   "outputs": [
    {
     "name": "stdout",
     "output_type": "stream",
     "text": [
      "Logistic Regression Model\n",
      "              precision    recall  f1-score   support\n",
      "\n",
      "         1.0       0.00      0.00      0.00        30\n",
      "         2.0       0.61      0.08      0.14       181\n",
      "         3.0       0.66      0.96      0.78      1038\n",
      "         4.0       0.46      0.24      0.31       366\n",
      "         5.0       0.54      0.12      0.20       121\n",
      "\n",
      "    accuracy                           0.64      1736\n",
      "   macro avg       0.45      0.28      0.29      1736\n",
      "weighted avg       0.59      0.64      0.56      1736\n",
      "\n"
     ]
    },
    {
     "name": "stderr",
     "output_type": "stream",
     "text": [
      "C:\\Users\\Kelly\\anaconda3\\lib\\site-packages\\sklearn\\metrics\\_classification.py:1318: UndefinedMetricWarning: Precision and F-score are ill-defined and being set to 0.0 in labels with no predicted samples. Use `zero_division` parameter to control this behavior.\n",
      "  _warn_prf(average, modifier, msg_start, len(result))\n",
      "C:\\Users\\Kelly\\anaconda3\\lib\\site-packages\\sklearn\\metrics\\_classification.py:1318: UndefinedMetricWarning: Precision and F-score are ill-defined and being set to 0.0 in labels with no predicted samples. Use `zero_division` parameter to control this behavior.\n",
      "  _warn_prf(average, modifier, msg_start, len(result))\n",
      "C:\\Users\\Kelly\\anaconda3\\lib\\site-packages\\sklearn\\metrics\\_classification.py:1318: UndefinedMetricWarning: Precision and F-score are ill-defined and being set to 0.0 in labels with no predicted samples. Use `zero_division` parameter to control this behavior.\n",
      "  _warn_prf(average, modifier, msg_start, len(result))\n"
     ]
    }
   ],
   "source": [
    "print(\"Logistic Regression Model\")\n",
    "print(classification_report(y_test, y_pred))"
   ]
  },
  {
   "cell_type": "code",
   "execution_count": 69,
   "id": "d2cdea98",
   "metadata": {},
   "outputs": [
    {
     "name": "stdout",
     "output_type": "stream",
     "text": [
      "Confusion matrix, without normalization\n",
      "[[   1    8   85   16    0]\n",
      " [   0  140  504   39    2]\n",
      " [   0    6 4178   57    4]\n",
      " [   0    6  742  679   17]\n",
      " [   0    1  230  115  113]]\n"
     ]
    },
    {
     "data": {
      "image/png": "[encoded data removed]",
      "text/plain": [
       "<Figure size 432x288 with 2 Axes>"
      ]
     },
     "metadata": {
      "needs_background": "light"
     },
     "output_type": "display_data"
    }
   ],
   "source": [
    "# Plot confusion matrix\n",
    "cnf_matrix = confusion_matrix(data['sentiment'], data['predicted_logreg'],labels=[1,2,3,4,5])\n",
    "np.set_printoptions(precision=2)\n",
    "\n",
    "# Plot non-normalized confusion matrix\n",
    "plt.figure()\n",
    "plot_confusion_matrix(cnf_matrix, classes=[1,2,3,4,5],\n",
    "                      title='Confusion matrix, without normalization')"
   ]
  },
  {
   "cell_type": "markdown",
   "id": "0245ce04",
   "metadata": {},
   "source": [
    "Similarly, we can use an ROC curve to look at the true positivite rate and false positive rate for each class. In particular, Class 3 and 4, we have a high false positivity rate. "
   ]
  },
  {
   "cell_type": "code",
   "execution_count": 70,
   "id": "f176741b",
   "metadata": {
    "scrolled": true
   },
   "outputs": [
    {
     "name": "stderr",
     "output_type": "stream",
     "text": [
      "C:\\Users\\Kelly\\anaconda3\\lib\\site-packages\\sklearn\\metrics\\_ranking.py:999: UndefinedMetricWarning: No positive samples in y_true, true positive value should be meaningless\n",
      "  warnings.warn(\n"
     ]
    },
    {
     "data": {
      "image/png": "[encoded data removed]",
      "text/plain": [
       "<Figure size 432x288 with 1 Axes>"
      ]
     },
     "metadata": {
      "needs_background": "light"
     },
     "output_type": "display_data"
    }
   ],
   "source": [
    "# Build ROC Curve\n",
    "\n",
    "fpr = {}\n",
    "tpr = {}\n",
    "thresh ={}\n",
    "\n",
    "n_class = 5\n",
    "\n",
    "for i in range(n_class):    \n",
    "    fpr[i], tpr[i], thresh[i] = roc_curve(y_test, y_pred_prob[:,i], pos_label=i)\n",
    "    \n",
    "# plotting    \n",
    "plt.plot(fpr[0], tpr[0], linestyle='--',color='yellow', label='Class 1 vs Rest')\n",
    "plt.plot(fpr[1], tpr[1], linestyle='--',color='green', label='Class 2 vs Rest')\n",
    "plt.plot(fpr[2], tpr[2], linestyle='--',color='blue', label='Class 3 vs Rest')\n",
    "plt.plot(fpr[3], tpr[3], linestyle='--',color='red', label='Class 4 vs Rest')\n",
    "plt.plot(fpr[4], tpr[4], linestyle='--',color='orange', label='Class 5 vs Rest')\n",
    "\n",
    "plt.title('Multiclass ROC curve')\n",
    "plt.xlabel('False Positive Rate')\n",
    "plt.ylabel('True Positive Rate')\n",
    "plt.legend(loc='best')\n",
    "plt.savefig('Logistic Regression ROC',dpi=300);   "
   ]
  },
  {
   "cell_type": "markdown",
   "id": "75933763",
   "metadata": {},
   "source": [
    "#### Overall"
   ]
  },
  {
   "cell_type": "markdown",
   "id": "5a32c27d",
   "metadata": {},
   "source": [
    "Overall, comparing the evaluation metrics for the two sentiment models, they are quite compareable. However, the TextBlob model proves to perform better with a higher accuracy of assigning the correct class compared to the Vadar model. \n",
    "\n",
    "Lastly, here we are looking at the simple histogram of the original sentiment and the predicted. The overall shape of the distirbution does refelct the original sentiment distribution. However, as we know, the sentiment models suffer from some miscategorization. \n",
    "\n",
    "Due to the imbalance of classes in the Logistic Regression model, the predicted sentiments are most often Class 3. We can look to fix this by ensuring our sample size has balanced classes to improve the learning of the model. "
   ]
  },
  {
   "cell_type": "code",
   "execution_count": 71,
   "id": "6ffb178b",
   "metadata": {},
   "outputs": [
    {
     "data": {
      "image/png": "[encoded data removed]",
      "text/plain": [
       "<Figure size 432x288 with 1 Axes>"
      ]
     },
     "metadata": {
      "needs_background": "light"
     },
     "output_type": "display_data"
    }
   ],
   "source": [
    "plt.hist(data[['sentiment', 'predicted_vadar', 'predicted_textblob', 'predicted_logreg']], bins=5\n",
    "         , label=('original sentiment', 'predicted (vadar)', 'predicted (textblob)', 'predicted (logreg)'))\n",
    "plt.legend()\n",
    "plt.title('Histogram of Original Sentiment vs. Predicted Sentiment')\n",
    "plt.show()"
   ]
  },
  {
   "cell_type": "markdown",
   "id": "cf4a3e34",
   "metadata": {},
   "source": [
    "### Where does it make errors and how might you improve it? "
   ]
  },
  {
   "cell_type": "markdown",
   "id": "1216c9b6",
   "metadata": {},
   "source": [
    "Overall, our models are\n",
    "in a good start, but there are many improvements that can help. \n",
    "\n",
    "The current model: \n",
    "- Overpredicts Class 3, high false positivity rate\n",
    "- Off by 1 correct sentiment class on many predictions \n",
    "\n",
    "There is still some work that could be done to to improve the sentiment predictions:\n",
    "- Try alternative sentiment analyzers\n",
    "- Better token, stem, and lemmatize the words\n",
    "- Dig further into the data to understand discrprencies (sarcasm?)\n",
    "\n",
    "To improve the Logistic Regression model and improve our overall accuracy, we can: \n",
    "- **Balance Class Size**: Gather more samples from classes that have less samples counts to ensure we have even class sizes. This is optimal for the model to have enough samples to learn the characteristics of each class. \n",
    "- **Continue testing out different NLP transformation techniques**: The ways that we tokenize, stem, lemmantize the words will have an impact on the model. Testing more techniques and running a new model we will be able to find the best transformations of the tweet data that optimize our model performance. \n",
    "- **Run cross-validation**: Cross validating the dataset will help to generalize our model more and improve model performance. \n",
    "- **Run different models**: There are alternative models than Logistic Regression that we can test on our samples. For example, Bernoulli Naive Bayes, Support Vector Machine, or Random Forest(https://www.kaggle.com/efeergun96/classification-by-tweets-nlp/notebook)"
   ]
  }
 ],
 "metadata": {
  "kernelspec": {
   "display_name": "Python 3",
   "language": "python",
   "name": "python3"
  },
  "language_info": {
   "codemirror_mode": {
    "name": "ipython",
    "version": 3
   },
   "file_extension": ".py",
   "mimetype": "text/x-python",
   "name": "python",
   "nbconvert_exporter": "python",
   "pygments_lexer": "ipython3",
   "version": "3.8.8"
  }
 },
 "nbformat": 4,
 "nbformat_minor": 5
}
